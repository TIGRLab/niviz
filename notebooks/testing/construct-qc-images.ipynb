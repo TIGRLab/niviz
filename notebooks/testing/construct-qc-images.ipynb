{
 "cells": [
  {
   "cell_type": "code",
   "execution_count": 1,
   "id": "3c7d7557",
   "metadata": {},
   "outputs": [],
   "source": [
    "from bids import BIDSLayout\n",
    "import bids\n",
    "from bids.layout import add_config_paths, parse_file_entities\n",
    "\n",
    "add_config_paths(desc=\"../../../bids_config/bids.json\")"
   ]
  },
  {
   "cell_type": "code",
   "execution_count": 2,
   "id": "0a20513a",
   "metadata": {},
   "outputs": [],
   "source": [
    "output = \"../../../outputs/hcppipelines/\""
   ]
  },
  {
   "cell_type": "code",
   "execution_count": 3,
   "id": "390eb0db",
   "metadata": {},
   "outputs": [
    {
     "name": "stderr",
     "output_type": "stream",
     "text": [
      "/home/jerry/.pyenv/versions/3.8.0/envs/niviz/lib/python3.8/site-packages/bids/layout/validation.py:46: UserWarning: The ability to pass arguments to BIDSLayout that control indexing is likely to be removed in future; possibly as early as PyBIDS 0.14. This includes the `config_filename`, `ignore`, `force_index`, and `index_metadata` arguments. The recommended usage pattern is to initialize a new BIDSLayoutIndexer with these arguments, and pass it to the BIDSLayout via the `indexer` argument.\n",
      "  warnings.warn(\"The ability to pass arguments to BIDSLayout that control \"\n"
     ]
    }
   ],
   "source": [
    "layout =  BIDSLayout(output, validate=False,\n",
    "                    index_metadata=False,\n",
    "                    config=['desc'])"
   ]
  },
  {
   "cell_type": "code",
   "execution_count": 8,
   "id": "ee647c78",
   "metadata": {},
   "outputs": [
    {
     "data": {
      "text/plain": [
       "{'subject': 'CU1CU10021',\n",
       " 'suffix': 'T1w',\n",
       " 'datatype': 'anat',\n",
       " 'extension': 'png',\n",
       " 'desc': 'myelinmap'}"
      ]
     },
     "execution_count": 8,
     "metadata": {},
     "output_type": "execute_result"
    }
   ],
   "source": [
    "parse_file_entities(layout.get()[0].path)"
   ]
  }
 ],
 "metadata": {
  "kernelspec": {
   "display_name": "Python 3",
   "language": "python",
   "name": "python3"
  },
  "language_info": {
   "codemirror_mode": {
    "name": "ipython",
    "version": 3
   },
   "file_extension": ".py",
   "mimetype": "text/x-python",
   "name": "python",
   "nbconvert_exporter": "python",
   "pygments_lexer": "ipython3",
   "version": "3.8.0"
  }
 },
 "nbformat": 4,
 "nbformat_minor": 5
}
