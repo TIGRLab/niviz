{
 "cells": [
  {
   "cell_type": "code",
   "execution_count": 2,
   "id": "acd54124",
   "metadata": {},
   "outputs": [],
   "source": [
    "import nibabel.cifti2.cifti2 as nibcif\n",
    "import nibabel.cifti2.cifti2_axes as cax\n",
    "import numpy as np"
   ]
  },
  {
   "cell_type": "markdown",
   "id": "662c269f",
   "metadata": {},
   "source": [
    "### Building a testable connectome workbench Mesh"
   ]
  },
  {
   "cell_type": "markdown",
   "id": "e70f468c",
   "metadata": {},
   "source": [
    "First we'll construct a fake \"dscalar\" cifti file"
   ]
  },
  {
   "cell_type": "code",
   "execution_count": 95,
   "id": "6f6203e8",
   "metadata": {},
   "outputs": [],
   "source": [
    "np.random.seed()\n",
    "verts = np.arange(0,100,2)\n",
    "data = np.random.uniform(size=(1,100//2))\n",
    "# Create dscalar series axis\n",
    "ser_ax = cax.ScalarAxis(name=[\"Data\"])\n",
    "\n",
    "# Create BrainModel axis\n",
    "bm_ax = cax.BrainModelAxis(name=\"CORTEX_LEFT\",\n",
    "                          vertex=verts,\n",
    "                          affine=np.eye(4),\n",
    "                           nvertices={\n",
    "                               \"CORTEX_LEFT\":verts.shape[0]}\n",
    "                          )\n",
    "h = nibcif.Cifti2Header.from_axes((ser_ax, bm_ax))"
   ]
  },
  {
   "cell_type": "code",
   "execution_count": 96,
   "id": "782f612d",
   "metadata": {},
   "outputs": [],
   "source": [
    "c = nibcif.Cifti2Image(dataobj=data,header=h)"
   ]
  },
  {
   "cell_type": "markdown",
   "id": "b07126e6",
   "metadata": {},
   "source": [
    "Next let's create some fake surfaces"
   ]
  },
  {
   "cell_type": "code",
   "execution_count": 63,
   "id": "3113db05",
   "metadata": {},
   "outputs": [],
   "source": [
    "import nibabel.gifti as nibgif"
   ]
  },
  {
   "cell_type": "code",
   "execution_count": 103,
   "id": "9529f0b3",
   "metadata": {},
   "outputs": [],
   "source": [
    "# Construct a GIFTI object\n",
    "g = nibgif.GiftiImage()\n",
    "coords = np.random.uniform(size=(100, 3))\n",
    "trigs = np.random.randint(low=0, high=100, size=(5, 3))\n",
    "\n",
    "struct = nibgif.GiftiNVPairs(name=\"AnatomicalStructurePrimary\",\n",
    "                            value=\"CortexLeft\")\n",
    "meta = nibgif.GiftiMetaData(struct)\n",
    "darray1 = nibgif.GiftiDataArray(data=coords,\n",
    "                               intent='NIFTI_INTENT_POINTSET',\n",
    "                              meta=meta)\n",
    "\n",
    "darray2 = nibgif.GiftiDataArray(data=coords,\n",
    "                                intent=1009)\n",
    "\n",
    "g.add_gifti_data_array(darray)\n",
    "g.add_gifti_data_array(darray2)"
   ]
  },
  {
   "cell_type": "code",
   "execution_count": 104,
   "id": "a31163fd",
   "metadata": {},
   "outputs": [],
   "source": [
    "from niviz.surface import map_cifti_to_gifti"
   ]
  },
  {
   "cell_type": "code",
   "execution_count": 106,
   "id": "f4a4b065",
   "metadata": {},
   "outputs": [],
   "source": [
    "verts, trigs, data = res = map_cifti_to_gifti(g, c)"
   ]
  },
  {
   "cell_type": "code",
   "execution_count": 119,
   "id": "8e10fdbf",
   "metadata": {},
   "outputs": [],
   "source": [
    "darray1.meta = \"test\""
   ]
  },
  {
   "cell_type": "code",
   "execution_count": 125,
   "id": "7616caaa",
   "metadata": {},
   "outputs": [],
   "source": [
    "g.darrays[0].meta = nibgif.GiftiMetaData(\n",
    "    nibgif.GiftiNVPairs(name=\"BAD\", value=\"BAD\")\n",
    ")"
   ]
  },
  {
   "cell_type": "code",
   "execution_count": 129,
   "id": "e98a39c2",
   "metadata": {},
   "outputs": [
    {
     "data": {
      "text/plain": [
       "<nibabel.cifti2.cifti2_axes.ScalarAxis at 0x7fe266214100>"
      ]
     },
     "execution_count": 129,
     "metadata": {},
     "output_type": "execute_result"
    }
   ],
   "source": []
  },
  {
   "cell_type": "code",
   "execution_count": 127,
   "id": "a87b9d06",
   "metadata": {},
   "outputs": [
    {
     "data": {
      "text/plain": [
       "{'BAD': 'BAD'}"
      ]
     },
     "execution_count": 127,
     "metadata": {},
     "output_type": "execute_result"
    }
   ],
   "source": [
    "g.darrays[0].metadata"
   ]
  },
  {
   "cell_type": "code",
   "execution_count": 116,
   "id": "4d522f6b",
   "metadata": {},
   "outputs": [
    {
     "data": {
      "text/plain": [
       "False"
      ]
     },
     "execution_count": 116,
     "metadata": {},
     "output_type": "execute_result"
    }
   ],
   "source": [
    "any(np.isnan(data[0, ::2]))"
   ]
  }
 ],
 "metadata": {
  "kernelspec": {
   "display_name": "Python 3",
   "language": "python",
   "name": "python3"
  },
  "language_info": {
   "codemirror_mode": {
    "name": "ipython",
    "version": 3
   },
   "file_extension": ".py",
   "mimetype": "text/x-python",
   "name": "python",
   "nbconvert_exporter": "python",
   "pygments_lexer": "ipython3",
   "version": "3.8.0"
  }
 },
 "nbformat": 4,
 "nbformat_minor": 5
}
