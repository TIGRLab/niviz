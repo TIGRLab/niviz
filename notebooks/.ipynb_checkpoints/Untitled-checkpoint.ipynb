{
 "cells": [
  {
   "cell_type": "code",
   "execution_count": 2,
   "id": "63f7724f",
   "metadata": {},
   "outputs": [],
   "source": [
    "import nibabel.cifti2.cifti2 as nibcif\n",
    "import nibabel.cifti2.cifti2_axes as cax\n",
    "import numpy as np"
   ]
  },
  {
   "cell_type": "markdown",
   "id": "ebd4c8c1",
   "metadata": {},
   "source": [
    "### Building a testable connectome workbench Mesh"
   ]
  },
  {
   "cell_type": "markdown",
   "id": "84d8e3e2",
   "metadata": {},
   "source": [
    "First we'll construct a fake \"dscalar\" cifti file"
   ]
  },
  {
   "cell_type": "code",
   "execution_count": 95,
   "id": "8b15268e",
   "metadata": {},
   "outputs": [],
   "source": [
    "verts = np.arange(0,100,2)\n",
    "data = np.random.uniform(size=(1,100//2))\n",
    "# Create dscalar series axis\n",
    "ser_ax = cax.ScalarAxis(name=[\"Data\"])\n",
    "\n",
    "# Create BrainModel axis\n",
    "bm_ax = cax.BrainModelAxis(name=\"CORTEX_LEFT\",\n",
    "                          vertex=verts,\n",
    "                          affine=np.eye(4),\n",
    "                           nvertices={\n",
    "                               \"CORTEX_LEFT\":verts.shape[0]}\n",
    "                          )\n",
    "h = nibcif.Cifti2Header.from_axes((ser_ax, bm_ax))"
   ]
  },
  {
   "cell_type": "code",
   "execution_count": 96,
   "id": "e85ecd6b",
   "metadata": {},
   "outputs": [],
   "source": [
    "c = nibcif.Cifti2Image(dataobj=data,header=h)"
   ]
  },
  {
   "cell_type": "markdown",
   "id": "f1cc1d62",
   "metadata": {},
   "source": [
    "Next let's create some fake surfaces"
   ]
  },
  {
   "cell_type": "code",
   "execution_count": 63,
   "id": "ccd8026f",
   "metadata": {},
   "outputs": [],
   "source": [
    "import nibabel.gifti as nibgif"
   ]
  },
  {
   "cell_type": "code",
   "execution_count": 84,
   "id": "efb0a93e",
   "metadata": {},
   "outputs": [],
   "source": [
    "# Construct a GIFTI object\n",
    "g = nibgif.GiftiImage()\n",
    "coords = np.random.uniform(size=(100, 3))\n",
    "trigs = np.random.randint(size=(5, 3))\n",
    "\n",
    "struct = nibgif.GiftiNVPairs(name=\"AnatomicalStructurePrimary\",\n",
    "                            value=\"CortexLeft\")\n",
    "meta = nibgif.GiftiMetaData(struct)\n",
    "darray1 = nibgif.GiftiDataArray(data=coords,\n",
    "                               intent='NIFTI_INTENT_POINTSET',\n",
    "                              meta=meta)\n",
    "\n",
    "darrays2 = nibgif.GiftiDataArray(data=coords,\n",
    "                                intent=1009)\n",
    "\n",
    "g.add_gifti_data_array(darray)"
   ]
  },
  {
   "cell_type": "code",
   "execution_count": 86,
   "id": "3258a4f3",
   "metadata": {},
   "outputs": [],
   "source": [
    "from niviz.surface import map_cifti_to_gifti"
   ]
  },
  {
   "cell_type": "code",
   "execution_count": 99,
   "id": "5039b1b8",
   "metadata": {},
   "outputs": [
    {
     "ename": "AttributeError",
     "evalue": "'tuple' object has no attribute 'copy'",
     "output_type": "error",
     "traceback": [
      "\u001b[0;31m---------------------------------------------------------------------------\u001b[0m",
      "\u001b[0;31mAttributeError\u001b[0m                            Traceback (most recent call last)",
      "\u001b[0;32m<ipython-input-99-ccbc7ca9605b>\u001b[0m in \u001b[0;36m<module>\u001b[0;34m\u001b[0m\n\u001b[0;32m----> 1\u001b[0;31m \u001b[0mmap_cifti_to_gifti\u001b[0m\u001b[0;34m(\u001b[0m\u001b[0mg\u001b[0m\u001b[0;34m,\u001b[0m \u001b[0mc\u001b[0m\u001b[0;34m)\u001b[0m\u001b[0;34m\u001b[0m\u001b[0;34m\u001b[0m\u001b[0m\n\u001b[0m",
      "\u001b[0;32m~/projects/tigrlab/niviz_development/niviz/niviz/surface.py\u001b[0m in \u001b[0;36mmap_cifti_to_gifti\u001b[0;34m(gifti, cifti)\u001b[0m\n\u001b[1;32m    105\u001b[0m \u001b[0;34m\u001b[0m\u001b[0m\n\u001b[1;32m    106\u001b[0m     \u001b[0;31m# Extract vertices from GIFTI\u001b[0m\u001b[0;34m\u001b[0m\u001b[0;34m\u001b[0m\u001b[0;34m\u001b[0m\u001b[0m\n\u001b[0;32m--> 107\u001b[0;31m     \u001b[0mverts\u001b[0m\u001b[0;34m,\u001b[0m \u001b[0mtrigs\u001b[0m \u001b[0;34m=\u001b[0m \u001b[0mgifti_get_mesh\u001b[0m\u001b[0;34m(\u001b[0m\u001b[0mgifti\u001b[0m\u001b[0;34m)\u001b[0m\u001b[0;34m\u001b[0m\u001b[0;34m\u001b[0m\u001b[0m\n\u001b[0m\u001b[1;32m    108\u001b[0m \u001b[0;34m\u001b[0m\u001b[0m\n\u001b[1;32m    109\u001b[0m     \u001b[0;31m# Map CIFTI vertices to GIFTI, setting non-filled values to NaN\u001b[0m\u001b[0;34m\u001b[0m\u001b[0;34m\u001b[0m\u001b[0;34m\u001b[0m\u001b[0m\n",
      "\u001b[0;32m~/projects/tigrlab/niviz_development/niviz/niviz/surface.py\u001b[0m in \u001b[0;36mgifti_get_mesh\u001b[0;34m(gifti)\u001b[0m\n\u001b[1;32m     24\u001b[0m \u001b[0;34m\u001b[0m\u001b[0m\n\u001b[1;32m     25\u001b[0m     \u001b[0mv\u001b[0m\u001b[0;34m,\u001b[0m \u001b[0mt\u001b[0m \u001b[0;34m=\u001b[0m \u001b[0mgifti\u001b[0m\u001b[0;34m.\u001b[0m\u001b[0magg_data\u001b[0m\u001b[0;34m(\u001b[0m\u001b[0;34m(\u001b[0m\u001b[0;34m'pointset'\u001b[0m\u001b[0;34m,\u001b[0m \u001b[0;34m'triangle'\u001b[0m\u001b[0;34m)\u001b[0m\u001b[0;34m)\u001b[0m\u001b[0;34m\u001b[0m\u001b[0;34m\u001b[0m\u001b[0m\n\u001b[0;32m---> 26\u001b[0;31m     \u001b[0;32mreturn\u001b[0m \u001b[0mv\u001b[0m\u001b[0;34m.\u001b[0m\u001b[0mcopy\u001b[0m\u001b[0;34m(\u001b[0m\u001b[0;34m)\u001b[0m\u001b[0;34m,\u001b[0m \u001b[0mt\u001b[0m\u001b[0;34m.\u001b[0m\u001b[0mcopy\u001b[0m\u001b[0;34m(\u001b[0m\u001b[0;34m)\u001b[0m\u001b[0;34m\u001b[0m\u001b[0;34m\u001b[0m\u001b[0m\n\u001b[0m\u001b[1;32m     27\u001b[0m \u001b[0;34m\u001b[0m\u001b[0m\n\u001b[1;32m     28\u001b[0m \u001b[0;34m\u001b[0m\u001b[0m\n",
      "\u001b[0;31mAttributeError\u001b[0m: 'tuple' object has no attribute 'copy'"
     ]
    }
   ],
   "source": [
    "map_cifti_to_gifti(g, c)"
   ]
  }
 ],
 "metadata": {
  "kernelspec": {
   "display_name": "Python 3",
   "language": "python",
   "name": "python3"
  },
  "language_info": {
   "codemirror_mode": {
    "name": "ipython",
    "version": 3
   },
   "file_extension": ".py",
   "mimetype": "text/x-python",
   "name": "python",
   "nbconvert_exporter": "python",
   "pygments_lexer": "ipython3",
   "version": "3.8.0"
  }
 },
 "nbformat": 4,
 "nbformat_minor": 5
}
